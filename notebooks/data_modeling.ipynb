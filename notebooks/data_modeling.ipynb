{
 "cells": [
  {
   "attachments": {},
   "cell_type": "markdown",
   "metadata": {},
   "source": [
    "# AI300: Capstone Project Data Modeling"
   ]
  },
  {
   "cell_type": "code",
   "execution_count": 1,
   "metadata": {},
   "outputs": [],
   "source": [
    "import pandas as pd \n",
    "from pycaret.classification import *"
   ]
  },
  {
   "cell_type": "code",
   "execution_count": 2,
   "metadata": {},
   "outputs": [
    {
     "data": {
      "text/html": [
       "<div>\n",
       "<style scoped>\n",
       "    .dataframe tbody tr th:only-of-type {\n",
       "        vertical-align: middle;\n",
       "    }\n",
       "\n",
       "    .dataframe tbody tr th {\n",
       "        vertical-align: top;\n",
       "    }\n",
       "\n",
       "    .dataframe thead th {\n",
       "        text-align: right;\n",
       "    }\n",
       "</style>\n",
       "<table border=\"1\" class=\"dataframe\">\n",
       "  <thead>\n",
       "    <tr style=\"text-align: right;\">\n",
       "      <th></th>\n",
       "      <th>tenure_months</th>\n",
       "      <th>num_referrals</th>\n",
       "      <th>has_internet_service</th>\n",
       "      <th>internet_type</th>\n",
       "      <th>has_unlimited_data</th>\n",
       "      <th>has_phone_service</th>\n",
       "      <th>has_multiple_lines</th>\n",
       "      <th>has_premium_tech_support</th>\n",
       "      <th>has_online_security</th>\n",
       "      <th>has_online_backup</th>\n",
       "      <th>...</th>\n",
       "      <th>stream_movie</th>\n",
       "      <th>stream_music</th>\n",
       "      <th>total_monthly_fee</th>\n",
       "      <th>gender</th>\n",
       "      <th>senior_citizen</th>\n",
       "      <th>married</th>\n",
       "      <th>num_dependents</th>\n",
       "      <th>zip_code</th>\n",
       "      <th>city_name</th>\n",
       "      <th>churn_label</th>\n",
       "    </tr>\n",
       "  </thead>\n",
       "  <tbody>\n",
       "    <tr>\n",
       "      <th>0</th>\n",
       "      <td>3</td>\n",
       "      <td>3</td>\n",
       "      <td>1</td>\n",
       "      <td>1</td>\n",
       "      <td>1</td>\n",
       "      <td>1</td>\n",
       "      <td>0</td>\n",
       "      <td>1</td>\n",
       "      <td>0</td>\n",
       "      <td>0</td>\n",
       "      <td>...</td>\n",
       "      <td>0</td>\n",
       "      <td>0</td>\n",
       "      <td>83.90</td>\n",
       "      <td>1</td>\n",
       "      <td>1</td>\n",
       "      <td>1</td>\n",
       "      <td>0</td>\n",
       "      <td>606</td>\n",
       "      <td>139</td>\n",
       "      <td>1</td>\n",
       "    </tr>\n",
       "    <tr>\n",
       "      <th>1</th>\n",
       "      <td>63</td>\n",
       "      <td>8</td>\n",
       "      <td>1</td>\n",
       "      <td>1</td>\n",
       "      <td>0</td>\n",
       "      <td>1</td>\n",
       "      <td>1</td>\n",
       "      <td>1</td>\n",
       "      <td>1</td>\n",
       "      <td>0</td>\n",
       "      <td>...</td>\n",
       "      <td>0</td>\n",
       "      <td>0</td>\n",
       "      <td>84.65</td>\n",
       "      <td>0</td>\n",
       "      <td>0</td>\n",
       "      <td>1</td>\n",
       "      <td>0</td>\n",
       "      <td>962</td>\n",
       "      <td>653</td>\n",
       "      <td>0</td>\n",
       "    </tr>\n",
       "    <tr>\n",
       "      <th>2</th>\n",
       "      <td>65</td>\n",
       "      <td>3</td>\n",
       "      <td>1</td>\n",
       "      <td>3</td>\n",
       "      <td>1</td>\n",
       "      <td>1</td>\n",
       "      <td>1</td>\n",
       "      <td>1</td>\n",
       "      <td>1</td>\n",
       "      <td>1</td>\n",
       "      <td>...</td>\n",
       "      <td>1</td>\n",
       "      <td>1</td>\n",
       "      <td>90.45</td>\n",
       "      <td>1</td>\n",
       "      <td>0</td>\n",
       "      <td>1</td>\n",
       "      <td>1</td>\n",
       "      <td>1389</td>\n",
       "      <td>915</td>\n",
       "      <td>0</td>\n",
       "    </tr>\n",
       "    <tr>\n",
       "      <th>3</th>\n",
       "      <td>72</td>\n",
       "      <td>0</td>\n",
       "      <td>1</td>\n",
       "      <td>1</td>\n",
       "      <td>1</td>\n",
       "      <td>1</td>\n",
       "      <td>1</td>\n",
       "      <td>0</td>\n",
       "      <td>1</td>\n",
       "      <td>1</td>\n",
       "      <td>...</td>\n",
       "      <td>0</td>\n",
       "      <td>0</td>\n",
       "      <td>101.30</td>\n",
       "      <td>1</td>\n",
       "      <td>0</td>\n",
       "      <td>0</td>\n",
       "      <td>0</td>\n",
       "      <td>302</td>\n",
       "      <td>490</td>\n",
       "      <td>0</td>\n",
       "    </tr>\n",
       "    <tr>\n",
       "      <th>4</th>\n",
       "      <td>56</td>\n",
       "      <td>0</td>\n",
       "      <td>1</td>\n",
       "      <td>2</td>\n",
       "      <td>1</td>\n",
       "      <td>0</td>\n",
       "      <td>0</td>\n",
       "      <td>1</td>\n",
       "      <td>1</td>\n",
       "      <td>1</td>\n",
       "      <td>...</td>\n",
       "      <td>0</td>\n",
       "      <td>0</td>\n",
       "      <td>45.05</td>\n",
       "      <td>1</td>\n",
       "      <td>0</td>\n",
       "      <td>0</td>\n",
       "      <td>0</td>\n",
       "      <td>715</td>\n",
       "      <td>558</td>\n",
       "      <td>0</td>\n",
       "    </tr>\n",
       "  </tbody>\n",
       "</table>\n",
       "<p>5 rows × 26 columns</p>\n",
       "</div>"
      ],
      "text/plain": [
       "   tenure_months  num_referrals  has_internet_service  internet_type  \\\n",
       "0              3              3                     1              1   \n",
       "1             63              8                     1              1   \n",
       "2             65              3                     1              3   \n",
       "3             72              0                     1              1   \n",
       "4             56              0                     1              2   \n",
       "\n",
       "   has_unlimited_data  has_phone_service  has_multiple_lines  \\\n",
       "0                   1                  1                   0   \n",
       "1                   0                  1                   1   \n",
       "2                   1                  1                   1   \n",
       "3                   1                  1                   1   \n",
       "4                   1                  0                   0   \n",
       "\n",
       "   has_premium_tech_support  has_online_security  has_online_backup  ...  \\\n",
       "0                         1                    0                  0  ...   \n",
       "1                         1                    1                  0  ...   \n",
       "2                         1                    1                  1  ...   \n",
       "3                         0                    1                  1  ...   \n",
       "4                         1                    1                  1  ...   \n",
       "\n",
       "   stream_movie  stream_music  total_monthly_fee  gender  senior_citizen  \\\n",
       "0             0             0              83.90       1               1   \n",
       "1             0             0              84.65       0               0   \n",
       "2             1             1              90.45       1               0   \n",
       "3             0             0             101.30       1               0   \n",
       "4             0             0              45.05       1               0   \n",
       "\n",
       "   married  num_dependents  zip_code  city_name  churn_label  \n",
       "0        1               0       606        139            1  \n",
       "1        1               0       962        653            0  \n",
       "2        1               1      1389        915            0  \n",
       "3        0               0       302        490            0  \n",
       "4        0               0       715        558            0  \n",
       "\n",
       "[5 rows x 26 columns]"
      ]
     },
     "execution_count": 2,
     "metadata": {},
     "output_type": "execute_result"
    }
   ],
   "source": [
    "df = pd.read_csv('data/customer_churn_clean_v0.csv')\n",
    "df.head()"
   ]
  },
  {
   "cell_type": "code",
   "execution_count": 3,
   "metadata": {},
   "outputs": [
    {
     "data": {
      "text/plain": [
       "(7043, 26)"
      ]
     },
     "execution_count": 3,
     "metadata": {},
     "output_type": "execute_result"
    }
   ],
   "source": [
    "df.shape"
   ]
  },
  {
   "attachments": {},
   "cell_type": "markdown",
   "metadata": {},
   "source": [
    "## Preliminary assessment of models to explore"
   ]
  },
  {
   "cell_type": "code",
   "execution_count": 3,
   "metadata": {},
   "outputs": [
    {
     "data": {
      "text/html": [
       "<style type=\"text/css\">\n",
       "#T_bdc94_row8_col1 {\n",
       "  background-color: lightgreen;\n",
       "}\n",
       "</style>\n",
       "<table id=\"T_bdc94\">\n",
       "  <thead>\n",
       "    <tr>\n",
       "      <th class=\"blank level0\" >&nbsp;</th>\n",
       "      <th id=\"T_bdc94_level0_col0\" class=\"col_heading level0 col0\" >Description</th>\n",
       "      <th id=\"T_bdc94_level0_col1\" class=\"col_heading level0 col1\" >Value</th>\n",
       "    </tr>\n",
       "  </thead>\n",
       "  <tbody>\n",
       "    <tr>\n",
       "      <th id=\"T_bdc94_level0_row0\" class=\"row_heading level0 row0\" >0</th>\n",
       "      <td id=\"T_bdc94_row0_col0\" class=\"data row0 col0\" >Session id</td>\n",
       "      <td id=\"T_bdc94_row0_col1\" class=\"data row0 col1\" >42</td>\n",
       "    </tr>\n",
       "    <tr>\n",
       "      <th id=\"T_bdc94_level0_row1\" class=\"row_heading level0 row1\" >1</th>\n",
       "      <td id=\"T_bdc94_row1_col0\" class=\"data row1 col0\" >Target</td>\n",
       "      <td id=\"T_bdc94_row1_col1\" class=\"data row1 col1\" >churn_label</td>\n",
       "    </tr>\n",
       "    <tr>\n",
       "      <th id=\"T_bdc94_level0_row2\" class=\"row_heading level0 row2\" >2</th>\n",
       "      <td id=\"T_bdc94_row2_col0\" class=\"data row2 col0\" >Target type</td>\n",
       "      <td id=\"T_bdc94_row2_col1\" class=\"data row2 col1\" >Binary</td>\n",
       "    </tr>\n",
       "    <tr>\n",
       "      <th id=\"T_bdc94_level0_row3\" class=\"row_heading level0 row3\" >3</th>\n",
       "      <td id=\"T_bdc94_row3_col0\" class=\"data row3 col0\" >Original data shape</td>\n",
       "      <td id=\"T_bdc94_row3_col1\" class=\"data row3 col1\" >(7043, 26)</td>\n",
       "    </tr>\n",
       "    <tr>\n",
       "      <th id=\"T_bdc94_level0_row4\" class=\"row_heading level0 row4\" >4</th>\n",
       "      <td id=\"T_bdc94_row4_col0\" class=\"data row4 col0\" >Transformed data shape</td>\n",
       "      <td id=\"T_bdc94_row4_col1\" class=\"data row4 col1\" >(7043, 26)</td>\n",
       "    </tr>\n",
       "    <tr>\n",
       "      <th id=\"T_bdc94_level0_row5\" class=\"row_heading level0 row5\" >5</th>\n",
       "      <td id=\"T_bdc94_row5_col0\" class=\"data row5 col0\" >Transformed train set shape</td>\n",
       "      <td id=\"T_bdc94_row5_col1\" class=\"data row5 col1\" >(4930, 26)</td>\n",
       "    </tr>\n",
       "    <tr>\n",
       "      <th id=\"T_bdc94_level0_row6\" class=\"row_heading level0 row6\" >6</th>\n",
       "      <td id=\"T_bdc94_row6_col0\" class=\"data row6 col0\" >Transformed test set shape</td>\n",
       "      <td id=\"T_bdc94_row6_col1\" class=\"data row6 col1\" >(2113, 26)</td>\n",
       "    </tr>\n",
       "    <tr>\n",
       "      <th id=\"T_bdc94_level0_row7\" class=\"row_heading level0 row7\" >7</th>\n",
       "      <td id=\"T_bdc94_row7_col0\" class=\"data row7 col0\" >Numeric features</td>\n",
       "      <td id=\"T_bdc94_row7_col1\" class=\"data row7 col1\" >25</td>\n",
       "    </tr>\n",
       "    <tr>\n",
       "      <th id=\"T_bdc94_level0_row8\" class=\"row_heading level0 row8\" >8</th>\n",
       "      <td id=\"T_bdc94_row8_col0\" class=\"data row8 col0\" >Preprocess</td>\n",
       "      <td id=\"T_bdc94_row8_col1\" class=\"data row8 col1\" >True</td>\n",
       "    </tr>\n",
       "    <tr>\n",
       "      <th id=\"T_bdc94_level0_row9\" class=\"row_heading level0 row9\" >9</th>\n",
       "      <td id=\"T_bdc94_row9_col0\" class=\"data row9 col0\" >Imputation type</td>\n",
       "      <td id=\"T_bdc94_row9_col1\" class=\"data row9 col1\" >simple</td>\n",
       "    </tr>\n",
       "    <tr>\n",
       "      <th id=\"T_bdc94_level0_row10\" class=\"row_heading level0 row10\" >10</th>\n",
       "      <td id=\"T_bdc94_row10_col0\" class=\"data row10 col0\" >Numeric imputation</td>\n",
       "      <td id=\"T_bdc94_row10_col1\" class=\"data row10 col1\" >mean</td>\n",
       "    </tr>\n",
       "    <tr>\n",
       "      <th id=\"T_bdc94_level0_row11\" class=\"row_heading level0 row11\" >11</th>\n",
       "      <td id=\"T_bdc94_row11_col0\" class=\"data row11 col0\" >Categorical imputation</td>\n",
       "      <td id=\"T_bdc94_row11_col1\" class=\"data row11 col1\" >mode</td>\n",
       "    </tr>\n",
       "    <tr>\n",
       "      <th id=\"T_bdc94_level0_row12\" class=\"row_heading level0 row12\" >12</th>\n",
       "      <td id=\"T_bdc94_row12_col0\" class=\"data row12 col0\" >Fold Generator</td>\n",
       "      <td id=\"T_bdc94_row12_col1\" class=\"data row12 col1\" >StratifiedKFold</td>\n",
       "    </tr>\n",
       "    <tr>\n",
       "      <th id=\"T_bdc94_level0_row13\" class=\"row_heading level0 row13\" >13</th>\n",
       "      <td id=\"T_bdc94_row13_col0\" class=\"data row13 col0\" >Fold Number</td>\n",
       "      <td id=\"T_bdc94_row13_col1\" class=\"data row13 col1\" >10</td>\n",
       "    </tr>\n",
       "    <tr>\n",
       "      <th id=\"T_bdc94_level0_row14\" class=\"row_heading level0 row14\" >14</th>\n",
       "      <td id=\"T_bdc94_row14_col0\" class=\"data row14 col0\" >CPU Jobs</td>\n",
       "      <td id=\"T_bdc94_row14_col1\" class=\"data row14 col1\" >-1</td>\n",
       "    </tr>\n",
       "    <tr>\n",
       "      <th id=\"T_bdc94_level0_row15\" class=\"row_heading level0 row15\" >15</th>\n",
       "      <td id=\"T_bdc94_row15_col0\" class=\"data row15 col0\" >Use GPU</td>\n",
       "      <td id=\"T_bdc94_row15_col1\" class=\"data row15 col1\" >False</td>\n",
       "    </tr>\n",
       "    <tr>\n",
       "      <th id=\"T_bdc94_level0_row16\" class=\"row_heading level0 row16\" >16</th>\n",
       "      <td id=\"T_bdc94_row16_col0\" class=\"data row16 col0\" >Log Experiment</td>\n",
       "      <td id=\"T_bdc94_row16_col1\" class=\"data row16 col1\" >False</td>\n",
       "    </tr>\n",
       "    <tr>\n",
       "      <th id=\"T_bdc94_level0_row17\" class=\"row_heading level0 row17\" >17</th>\n",
       "      <td id=\"T_bdc94_row17_col0\" class=\"data row17 col0\" >Experiment Name</td>\n",
       "      <td id=\"T_bdc94_row17_col1\" class=\"data row17 col1\" >clf-default-name</td>\n",
       "    </tr>\n",
       "    <tr>\n",
       "      <th id=\"T_bdc94_level0_row18\" class=\"row_heading level0 row18\" >18</th>\n",
       "      <td id=\"T_bdc94_row18_col0\" class=\"data row18 col0\" >USI</td>\n",
       "      <td id=\"T_bdc94_row18_col1\" class=\"data row18 col1\" >e6e1</td>\n",
       "    </tr>\n",
       "  </tbody>\n",
       "</table>\n"
      ],
      "text/plain": [
       "<pandas.io.formats.style.Styler at 0x17c786b50>"
      ]
     },
     "metadata": {},
     "output_type": "display_data"
    }
   ],
   "source": [
    "s = setup(data = df, target='churn_label', session_id=42)"
   ]
  },
  {
   "cell_type": "code",
   "execution_count": 5,
   "metadata": {},
   "outputs": [
    {
     "data": {
      "text/html": [],
      "text/plain": [
       "<IPython.core.display.HTML object>"
      ]
     },
     "metadata": {},
     "output_type": "display_data"
    },
    {
     "data": {
      "text/html": [
       "<style type=\"text/css\">\n",
       "#T_b1998 th {\n",
       "  text-align: left;\n",
       "}\n",
       "#T_b1998_row0_col0, #T_b1998_row0_col2, #T_b1998_row0_col3, #T_b1998_row0_col7, #T_b1998_row1_col0, #T_b1998_row1_col1, #T_b1998_row1_col3, #T_b1998_row1_col4, #T_b1998_row2_col0, #T_b1998_row2_col1, #T_b1998_row2_col2, #T_b1998_row2_col3, #T_b1998_row2_col4, #T_b1998_row2_col6, #T_b1998_row2_col7, #T_b1998_row3_col0, #T_b1998_row3_col1, #T_b1998_row3_col2, #T_b1998_row3_col3, #T_b1998_row3_col4, #T_b1998_row3_col5, #T_b1998_row3_col6, #T_b1998_row3_col7, #T_b1998_row4_col0, #T_b1998_row4_col1, #T_b1998_row4_col2, #T_b1998_row4_col3, #T_b1998_row4_col4, #T_b1998_row4_col5, #T_b1998_row4_col6, #T_b1998_row4_col7, #T_b1998_row5_col0, #T_b1998_row5_col1, #T_b1998_row5_col2, #T_b1998_row5_col3, #T_b1998_row5_col4, #T_b1998_row5_col5, #T_b1998_row5_col6, #T_b1998_row5_col7, #T_b1998_row6_col0, #T_b1998_row6_col1, #T_b1998_row6_col2, #T_b1998_row6_col3, #T_b1998_row6_col4, #T_b1998_row6_col5, #T_b1998_row6_col6, #T_b1998_row6_col7, #T_b1998_row7_col0, #T_b1998_row7_col1, #T_b1998_row7_col2, #T_b1998_row7_col3, #T_b1998_row7_col4, #T_b1998_row7_col5, #T_b1998_row7_col6, #T_b1998_row7_col7, #T_b1998_row8_col0, #T_b1998_row8_col1, #T_b1998_row8_col2, #T_b1998_row8_col3, #T_b1998_row8_col4, #T_b1998_row8_col5, #T_b1998_row8_col6, #T_b1998_row8_col7, #T_b1998_row9_col0, #T_b1998_row9_col1, #T_b1998_row9_col2, #T_b1998_row9_col3, #T_b1998_row9_col4, #T_b1998_row9_col5, #T_b1998_row9_col6, #T_b1998_row9_col7, #T_b1998_row10_col0, #T_b1998_row10_col1, #T_b1998_row10_col2, #T_b1998_row10_col3, #T_b1998_row10_col4, #T_b1998_row10_col5, #T_b1998_row10_col6, #T_b1998_row10_col7, #T_b1998_row11_col0, #T_b1998_row11_col1, #T_b1998_row11_col2, #T_b1998_row11_col4, #T_b1998_row11_col5, #T_b1998_row11_col6, #T_b1998_row11_col7, #T_b1998_row12_col0, #T_b1998_row12_col1, #T_b1998_row12_col2, #T_b1998_row12_col3, #T_b1998_row12_col4, #T_b1998_row12_col5, #T_b1998_row12_col6, #T_b1998_row12_col7, #T_b1998_row13_col0, #T_b1998_row13_col1, #T_b1998_row13_col2, #T_b1998_row13_col3, #T_b1998_row13_col4, #T_b1998_row13_col5, #T_b1998_row13_col6, #T_b1998_row13_col7, #T_b1998_row14_col0, #T_b1998_row14_col1, #T_b1998_row14_col2, #T_b1998_row14_col3, #T_b1998_row14_col4, #T_b1998_row14_col5, #T_b1998_row14_col6, #T_b1998_row14_col7, #T_b1998_row15_col0, #T_b1998_row15_col1, #T_b1998_row15_col2, #T_b1998_row15_col3, #T_b1998_row15_col4, #T_b1998_row15_col5, #T_b1998_row15_col6, #T_b1998_row15_col7 {\n",
       "  text-align: left;\n",
       "}\n",
       "#T_b1998_row0_col1, #T_b1998_row0_col4, #T_b1998_row0_col5, #T_b1998_row0_col6, #T_b1998_row1_col2, #T_b1998_row1_col5, #T_b1998_row1_col6, #T_b1998_row1_col7, #T_b1998_row2_col5, #T_b1998_row11_col3 {\n",
       "  text-align: left;\n",
       "  background-color: yellow;\n",
       "}\n",
       "#T_b1998_row0_col8, #T_b1998_row1_col8, #T_b1998_row2_col8, #T_b1998_row3_col8, #T_b1998_row4_col8, #T_b1998_row5_col8, #T_b1998_row6_col8, #T_b1998_row7_col8, #T_b1998_row9_col8, #T_b1998_row10_col8, #T_b1998_row12_col8, #T_b1998_row14_col8, #T_b1998_row15_col8 {\n",
       "  text-align: left;\n",
       "  background-color: lightgrey;\n",
       "}\n",
       "#T_b1998_row8_col8, #T_b1998_row11_col8, #T_b1998_row13_col8 {\n",
       "  text-align: left;\n",
       "  background-color: yellow;\n",
       "  background-color: lightgrey;\n",
       "}\n",
       "</style>\n",
       "<table id=\"T_b1998\">\n",
       "  <thead>\n",
       "    <tr>\n",
       "      <th class=\"blank level0\" >&nbsp;</th>\n",
       "      <th id=\"T_b1998_level0_col0\" class=\"col_heading level0 col0\" >Model</th>\n",
       "      <th id=\"T_b1998_level0_col1\" class=\"col_heading level0 col1\" >Accuracy</th>\n",
       "      <th id=\"T_b1998_level0_col2\" class=\"col_heading level0 col2\" >AUC</th>\n",
       "      <th id=\"T_b1998_level0_col3\" class=\"col_heading level0 col3\" >Recall</th>\n",
       "      <th id=\"T_b1998_level0_col4\" class=\"col_heading level0 col4\" >Prec.</th>\n",
       "      <th id=\"T_b1998_level0_col5\" class=\"col_heading level0 col5\" >F1</th>\n",
       "      <th id=\"T_b1998_level0_col6\" class=\"col_heading level0 col6\" >Kappa</th>\n",
       "      <th id=\"T_b1998_level0_col7\" class=\"col_heading level0 col7\" >MCC</th>\n",
       "      <th id=\"T_b1998_level0_col8\" class=\"col_heading level0 col8\" >TT (Sec)</th>\n",
       "    </tr>\n",
       "  </thead>\n",
       "  <tbody>\n",
       "    <tr>\n",
       "      <th id=\"T_b1998_level0_row0\" class=\"row_heading level0 row0\" >gbc</th>\n",
       "      <td id=\"T_b1998_row0_col0\" class=\"data row0 col0\" >Gradient Boosting Classifier</td>\n",
       "      <td id=\"T_b1998_row0_col1\" class=\"data row0 col1\" >0.8544</td>\n",
       "      <td id=\"T_b1998_row0_col2\" class=\"data row0 col2\" >0.9100</td>\n",
       "      <td id=\"T_b1998_row0_col3\" class=\"data row0 col3\" >0.6613</td>\n",
       "      <td id=\"T_b1998_row0_col4\" class=\"data row0 col4\" >0.7592</td>\n",
       "      <td id=\"T_b1998_row0_col5\" class=\"data row0 col5\" >0.7063</td>\n",
       "      <td id=\"T_b1998_row0_col6\" class=\"data row0 col6\" >0.6101</td>\n",
       "      <td id=\"T_b1998_row0_col7\" class=\"data row0 col7\" >0.6131</td>\n",
       "      <td id=\"T_b1998_row0_col8\" class=\"data row0 col8\" >0.0200</td>\n",
       "    </tr>\n",
       "    <tr>\n",
       "      <th id=\"T_b1998_level0_row1\" class=\"row_heading level0 row1\" >catboost</th>\n",
       "      <td id=\"T_b1998_row1_col0\" class=\"data row1 col0\" >CatBoost Classifier</td>\n",
       "      <td id=\"T_b1998_row1_col1\" class=\"data row1 col1\" >0.8542</td>\n",
       "      <td id=\"T_b1998_row1_col2\" class=\"data row1 col2\" >0.9121</td>\n",
       "      <td id=\"T_b1998_row1_col3\" class=\"data row1 col3\" >0.6628</td>\n",
       "      <td id=\"T_b1998_row1_col4\" class=\"data row1 col4\" >0.7586</td>\n",
       "      <td id=\"T_b1998_row1_col5\" class=\"data row1 col5\" >0.7063</td>\n",
       "      <td id=\"T_b1998_row1_col6\" class=\"data row1 col6\" >0.6101</td>\n",
       "      <td id=\"T_b1998_row1_col7\" class=\"data row1 col7\" >0.6133</td>\n",
       "      <td id=\"T_b1998_row1_col8\" class=\"data row1 col8\" >0.0130</td>\n",
       "    </tr>\n",
       "    <tr>\n",
       "      <th id=\"T_b1998_level0_row2\" class=\"row_heading level0 row2\" >lightgbm</th>\n",
       "      <td id=\"T_b1998_row2_col0\" class=\"data row2 col0\" >Light Gradient Boosting Machine</td>\n",
       "      <td id=\"T_b1998_row2_col1\" class=\"data row2 col1\" >0.8519</td>\n",
       "      <td id=\"T_b1998_row2_col2\" class=\"data row2 col2\" >0.9067</td>\n",
       "      <td id=\"T_b1998_row2_col3\" class=\"data row2 col3\" >0.6720</td>\n",
       "      <td id=\"T_b1998_row2_col4\" class=\"data row2 col4\" >0.7462</td>\n",
       "      <td id=\"T_b1998_row2_col5\" class=\"data row2 col5\" >0.7063</td>\n",
       "      <td id=\"T_b1998_row2_col6\" class=\"data row2 col6\" >0.6078</td>\n",
       "      <td id=\"T_b1998_row2_col7\" class=\"data row2 col7\" >0.6099</td>\n",
       "      <td id=\"T_b1998_row2_col8\" class=\"data row2 col8\" >0.0270</td>\n",
       "    </tr>\n",
       "    <tr>\n",
       "      <th id=\"T_b1998_level0_row3\" class=\"row_heading level0 row3\" >rf</th>\n",
       "      <td id=\"T_b1998_row3_col0\" class=\"data row3 col0\" >Random Forest Classifier</td>\n",
       "      <td id=\"T_b1998_row3_col1\" class=\"data row3 col1\" >0.8442</td>\n",
       "      <td id=\"T_b1998_row3_col2\" class=\"data row3 col2\" >0.8943</td>\n",
       "      <td id=\"T_b1998_row3_col3\" class=\"data row3 col3\" >0.6246</td>\n",
       "      <td id=\"T_b1998_row3_col4\" class=\"data row3 col4\" >0.7485</td>\n",
       "      <td id=\"T_b1998_row3_col5\" class=\"data row3 col5\" >0.6803</td>\n",
       "      <td id=\"T_b1998_row3_col6\" class=\"data row3 col6\" >0.5785</td>\n",
       "      <td id=\"T_b1998_row3_col7\" class=\"data row3 col7\" >0.5831</td>\n",
       "      <td id=\"T_b1998_row3_col8\" class=\"data row3 col8\" >0.0360</td>\n",
       "    </tr>\n",
       "    <tr>\n",
       "      <th id=\"T_b1998_level0_row4\" class=\"row_heading level0 row4\" >xgboost</th>\n",
       "      <td id=\"T_b1998_row4_col0\" class=\"data row4 col0\" >Extreme Gradient Boosting</td>\n",
       "      <td id=\"T_b1998_row4_col1\" class=\"data row4 col1\" >0.8432</td>\n",
       "      <td id=\"T_b1998_row4_col2\" class=\"data row4 col2\" >0.9015</td>\n",
       "      <td id=\"T_b1998_row4_col3\" class=\"data row4 col3\" >0.6567</td>\n",
       "      <td id=\"T_b1998_row4_col4\" class=\"data row4 col4\" >0.7278</td>\n",
       "      <td id=\"T_b1998_row4_col5\" class=\"data row4 col5\" >0.6892</td>\n",
       "      <td id=\"T_b1998_row4_col6\" class=\"data row4 col6\" >0.5849</td>\n",
       "      <td id=\"T_b1998_row4_col7\" class=\"data row4 col7\" >0.5872</td>\n",
       "      <td id=\"T_b1998_row4_col8\" class=\"data row4 col8\" >0.0150</td>\n",
       "    </tr>\n",
       "    <tr>\n",
       "      <th id=\"T_b1998_level0_row5\" class=\"row_heading level0 row5\" >lr</th>\n",
       "      <td id=\"T_b1998_row5_col0\" class=\"data row5 col0\" >Logistic Regression</td>\n",
       "      <td id=\"T_b1998_row5_col1\" class=\"data row5 col1\" >0.8365</td>\n",
       "      <td id=\"T_b1998_row5_col2\" class=\"data row5 col2\" >0.8912</td>\n",
       "      <td id=\"T_b1998_row5_col3\" class=\"data row5 col3\" >0.6544</td>\n",
       "      <td id=\"T_b1998_row5_col4\" class=\"data row5 col4\" >0.7085</td>\n",
       "      <td id=\"T_b1998_row5_col5\" class=\"data row5 col5\" >0.6799</td>\n",
       "      <td id=\"T_b1998_row5_col6\" class=\"data row5 col6\" >0.5704</td>\n",
       "      <td id=\"T_b1998_row5_col7\" class=\"data row5 col7\" >0.5716</td>\n",
       "      <td id=\"T_b1998_row5_col8\" class=\"data row5 col8\" >0.0190</td>\n",
       "    </tr>\n",
       "    <tr>\n",
       "      <th id=\"T_b1998_level0_row6\" class=\"row_heading level0 row6\" >et</th>\n",
       "      <td id=\"T_b1998_row6_col0\" class=\"data row6 col0\" >Extra Trees Classifier</td>\n",
       "      <td id=\"T_b1998_row6_col1\" class=\"data row6 col1\" >0.8345</td>\n",
       "      <td id=\"T_b1998_row6_col2\" class=\"data row6 col2\" >0.8814</td>\n",
       "      <td id=\"T_b1998_row6_col3\" class=\"data row6 col3\" >0.5932</td>\n",
       "      <td id=\"T_b1998_row6_col4\" class=\"data row6 col4\" >0.7329</td>\n",
       "      <td id=\"T_b1998_row6_col5\" class=\"data row6 col5\" >0.6549</td>\n",
       "      <td id=\"T_b1998_row6_col6\" class=\"data row6 col6\" >0.5477</td>\n",
       "      <td id=\"T_b1998_row6_col7\" class=\"data row6 col7\" >0.5535</td>\n",
       "      <td id=\"T_b1998_row6_col8\" class=\"data row6 col8\" >0.0470</td>\n",
       "    </tr>\n",
       "    <tr>\n",
       "      <th id=\"T_b1998_level0_row7\" class=\"row_heading level0 row7\" >ada</th>\n",
       "      <td id=\"T_b1998_row7_col0\" class=\"data row7 col0\" >Ada Boost Classifier</td>\n",
       "      <td id=\"T_b1998_row7_col1\" class=\"data row7 col1\" >0.8341</td>\n",
       "      <td id=\"T_b1998_row7_col2\" class=\"data row7 col2\" >0.8951</td>\n",
       "      <td id=\"T_b1998_row7_col3\" class=\"data row7 col3\" >0.6575</td>\n",
       "      <td id=\"T_b1998_row7_col4\" class=\"data row7 col4\" >0.6997</td>\n",
       "      <td id=\"T_b1998_row7_col5\" class=\"data row7 col5\" >0.6773</td>\n",
       "      <td id=\"T_b1998_row7_col6\" class=\"data row7 col6\" >0.5658</td>\n",
       "      <td id=\"T_b1998_row7_col7\" class=\"data row7 col7\" >0.5668</td>\n",
       "      <td id=\"T_b1998_row7_col8\" class=\"data row7 col8\" >0.0190</td>\n",
       "    </tr>\n",
       "    <tr>\n",
       "      <th id=\"T_b1998_level0_row8\" class=\"row_heading level0 row8\" >ridge</th>\n",
       "      <td id=\"T_b1998_row8_col0\" class=\"data row8 col0\" >Ridge Classifier</td>\n",
       "      <td id=\"T_b1998_row8_col1\" class=\"data row8 col1\" >0.8329</td>\n",
       "      <td id=\"T_b1998_row8_col2\" class=\"data row8 col2\" >0.0000</td>\n",
       "      <td id=\"T_b1998_row8_col3\" class=\"data row8 col3\" >0.5924</td>\n",
       "      <td id=\"T_b1998_row8_col4\" class=\"data row8 col4\" >0.7279</td>\n",
       "      <td id=\"T_b1998_row8_col5\" class=\"data row8 col5\" >0.6525</td>\n",
       "      <td id=\"T_b1998_row8_col6\" class=\"data row8 col6\" >0.5441</td>\n",
       "      <td id=\"T_b1998_row8_col7\" class=\"data row8 col7\" >0.5495</td>\n",
       "      <td id=\"T_b1998_row8_col8\" class=\"data row8 col8\" >0.0120</td>\n",
       "    </tr>\n",
       "    <tr>\n",
       "      <th id=\"T_b1998_level0_row9\" class=\"row_heading level0 row9\" >lda</th>\n",
       "      <td id=\"T_b1998_row9_col0\" class=\"data row9 col0\" >Linear Discriminant Analysis</td>\n",
       "      <td id=\"T_b1998_row9_col1\" class=\"data row9 col1\" >0.8310</td>\n",
       "      <td id=\"T_b1998_row9_col2\" class=\"data row9 col2\" >0.8821</td>\n",
       "      <td id=\"T_b1998_row9_col3\" class=\"data row9 col3\" >0.6315</td>\n",
       "      <td id=\"T_b1998_row9_col4\" class=\"data row9 col4\" >0.7024</td>\n",
       "      <td id=\"T_b1998_row9_col5\" class=\"data row9 col5\" >0.6645</td>\n",
       "      <td id=\"T_b1998_row9_col6\" class=\"data row9 col6\" >0.5521</td>\n",
       "      <td id=\"T_b1998_row9_col7\" class=\"data row9 col7\" >0.5539</td>\n",
       "      <td id=\"T_b1998_row9_col8\" class=\"data row9 col8\" >0.0130</td>\n",
       "    </tr>\n",
       "    <tr>\n",
       "      <th id=\"T_b1998_level0_row10\" class=\"row_heading level0 row10\" >qda</th>\n",
       "      <td id=\"T_b1998_row10_col0\" class=\"data row10 col0\" >Quadratic Discriminant Analysis</td>\n",
       "      <td id=\"T_b1998_row10_col1\" class=\"data row10 col1\" >0.8034</td>\n",
       "      <td id=\"T_b1998_row10_col2\" class=\"data row10 col2\" >0.8822</td>\n",
       "      <td id=\"T_b1998_row10_col3\" class=\"data row10 col3\" >0.7966</td>\n",
       "      <td id=\"T_b1998_row10_col4\" class=\"data row10 col4\" >0.5976</td>\n",
       "      <td id=\"T_b1998_row10_col5\" class=\"data row10 col5\" >0.6826</td>\n",
       "      <td id=\"T_b1998_row10_col6\" class=\"data row10 col6\" >0.5445</td>\n",
       "      <td id=\"T_b1998_row10_col7\" class=\"data row10 col7\" >0.5566</td>\n",
       "      <td id=\"T_b1998_row10_col8\" class=\"data row10 col8\" >0.0130</td>\n",
       "    </tr>\n",
       "    <tr>\n",
       "      <th id=\"T_b1998_level0_row11\" class=\"row_heading level0 row11\" >nb</th>\n",
       "      <td id=\"T_b1998_row11_col0\" class=\"data row11 col0\" >Naive Bayes</td>\n",
       "      <td id=\"T_b1998_row11_col1\" class=\"data row11 col1\" >0.7852</td>\n",
       "      <td id=\"T_b1998_row11_col2\" class=\"data row11 col2\" >0.8672</td>\n",
       "      <td id=\"T_b1998_row11_col3\" class=\"data row11 col3\" >0.7974</td>\n",
       "      <td id=\"T_b1998_row11_col4\" class=\"data row11 col4\" >0.5686</td>\n",
       "      <td id=\"T_b1998_row11_col5\" class=\"data row11 col5\" >0.6632</td>\n",
       "      <td id=\"T_b1998_row11_col6\" class=\"data row11 col6\" >0.5121</td>\n",
       "      <td id=\"T_b1998_row11_col7\" class=\"data row11 col7\" >0.5285</td>\n",
       "      <td id=\"T_b1998_row11_col8\" class=\"data row11 col8\" >0.0120</td>\n",
       "    </tr>\n",
       "    <tr>\n",
       "      <th id=\"T_b1998_level0_row12\" class=\"row_heading level0 row12\" >dt</th>\n",
       "      <td id=\"T_b1998_row12_col0\" class=\"data row12 col0\" >Decision Tree Classifier</td>\n",
       "      <td id=\"T_b1998_row12_col1\" class=\"data row12 col1\" >0.7828</td>\n",
       "      <td id=\"T_b1998_row12_col2\" class=\"data row12 col2\" >0.7251</td>\n",
       "      <td id=\"T_b1998_row12_col3\" class=\"data row12 col3\" >0.6024</td>\n",
       "      <td id=\"T_b1998_row12_col4\" class=\"data row12 col4\" >0.5899</td>\n",
       "      <td id=\"T_b1998_row12_col5\" class=\"data row12 col5\" >0.5956</td>\n",
       "      <td id=\"T_b1998_row12_col6\" class=\"data row12 col6\" >0.4472</td>\n",
       "      <td id=\"T_b1998_row12_col7\" class=\"data row12 col7\" >0.4476</td>\n",
       "      <td id=\"T_b1998_row12_col8\" class=\"data row12 col8\" >0.0150</td>\n",
       "    </tr>\n",
       "    <tr>\n",
       "      <th id=\"T_b1998_level0_row13\" class=\"row_heading level0 row13\" >dummy</th>\n",
       "      <td id=\"T_b1998_row13_col0\" class=\"data row13 col0\" >Dummy Classifier</td>\n",
       "      <td id=\"T_b1998_row13_col1\" class=\"data row13 col1\" >0.7347</td>\n",
       "      <td id=\"T_b1998_row13_col2\" class=\"data row13 col2\" >0.5000</td>\n",
       "      <td id=\"T_b1998_row13_col3\" class=\"data row13 col3\" >0.0000</td>\n",
       "      <td id=\"T_b1998_row13_col4\" class=\"data row13 col4\" >0.0000</td>\n",
       "      <td id=\"T_b1998_row13_col5\" class=\"data row13 col5\" >0.0000</td>\n",
       "      <td id=\"T_b1998_row13_col6\" class=\"data row13 col6\" >0.0000</td>\n",
       "      <td id=\"T_b1998_row13_col7\" class=\"data row13 col7\" >0.0000</td>\n",
       "      <td id=\"T_b1998_row13_col8\" class=\"data row13 col8\" >0.0120</td>\n",
       "    </tr>\n",
       "    <tr>\n",
       "      <th id=\"T_b1998_level0_row14\" class=\"row_heading level0 row14\" >knn</th>\n",
       "      <td id=\"T_b1998_row14_col0\" class=\"data row14 col0\" >K Neighbors Classifier</td>\n",
       "      <td id=\"T_b1998_row14_col1\" class=\"data row14 col1\" >0.7306</td>\n",
       "      <td id=\"T_b1998_row14_col2\" class=\"data row14 col2\" >0.6576</td>\n",
       "      <td id=\"T_b1998_row14_col3\" class=\"data row14 col3\" >0.3418</td>\n",
       "      <td id=\"T_b1998_row14_col4\" class=\"data row14 col4\" >0.4894</td>\n",
       "      <td id=\"T_b1998_row14_col5\" class=\"data row14 col5\" >0.4016</td>\n",
       "      <td id=\"T_b1998_row14_col6\" class=\"data row14 col6\" >0.2352</td>\n",
       "      <td id=\"T_b1998_row14_col7\" class=\"data row14 col7\" >0.2418</td>\n",
       "      <td id=\"T_b1998_row14_col8\" class=\"data row14 col8\" >0.0140</td>\n",
       "    </tr>\n",
       "    <tr>\n",
       "      <th id=\"T_b1998_level0_row15\" class=\"row_heading level0 row15\" >svm</th>\n",
       "      <td id=\"T_b1998_row15_col0\" class=\"data row15 col0\" >SVM - Linear Kernel</td>\n",
       "      <td id=\"T_b1998_row15_col1\" class=\"data row15 col1\" >0.6594</td>\n",
       "      <td id=\"T_b1998_row15_col2\" class=\"data row15 col2\" >0.0000</td>\n",
       "      <td id=\"T_b1998_row15_col3\" class=\"data row15 col3\" >0.5381</td>\n",
       "      <td id=\"T_b1998_row15_col4\" class=\"data row15 col4\" >0.4716</td>\n",
       "      <td id=\"T_b1998_row15_col5\" class=\"data row15 col5\" >0.4296</td>\n",
       "      <td id=\"T_b1998_row15_col6\" class=\"data row15 col6\" >0.2374</td>\n",
       "      <td id=\"T_b1998_row15_col7\" class=\"data row15 col7\" >0.2799</td>\n",
       "      <td id=\"T_b1998_row15_col8\" class=\"data row15 col8\" >0.0150</td>\n",
       "    </tr>\n",
       "  </tbody>\n",
       "</table>\n"
      ],
      "text/plain": [
       "<pandas.io.formats.style.Styler at 0x179dd2fa0>"
      ]
     },
     "metadata": {},
     "output_type": "display_data"
    },
    {
     "data": {
      "text/html": [],
      "text/plain": [
       "<IPython.core.display.HTML object>"
      ]
     },
     "metadata": {},
     "output_type": "display_data"
    }
   ],
   "source": [
    "best_model = compare_models()"
   ]
  },
  {
   "attachments": {},
   "cell_type": "markdown",
   "metadata": {},
   "source": [
    "Based on the comparison, the models selected for experimentations are `catboost` and `gradient boosting classifier`. "
   ]
  },
  {
   "attachments": {},
   "cell_type": "markdown",
   "metadata": {},
   "source": [
    "## Modeling"
   ]
  },
  {
   "cell_type": "code",
   "execution_count": 4,
   "metadata": {},
   "outputs": [],
   "source": [
    "# Import libraries\n",
    "from sklearn.model_selection import train_test_split\n",
    "from sklearn.ensemble import GradientBoostingClassifier\n",
    "from catboost import CatBoostClassifier\n"
   ]
  },
  {
   "cell_type": "code",
   "execution_count": 5,
   "metadata": {},
   "outputs": [
    {
     "name": "stdout",
     "output_type": "stream",
     "text": [
      "Shape of X_train: (4930, 25)\n",
      "Shape of X_test: (2113, 25)\n",
      "Shape of y_train: (4930,)\n",
      "Shape of y_test: (2113,)\n"
     ]
    }
   ],
   "source": [
    "# Train-test split \n",
    "X = df.drop(columns=\"churn_label\")\n",
    "y = df['churn_label']\n",
    "\n",
    "X_train, X_test, y_train, y_test = train_test_split(X, y, test_size=0.3, random_state=42)\n",
    "\n",
    "print(f\"Shape of X_train: {X_train.shape}\")\n",
    "print(f\"Shape of X_test: {X_test.shape}\")\n",
    "print(f\"Shape of y_train: {y_train.shape}\")\n",
    "print(f\"Shape of y_test: {y_test.shape}\")"
   ]
  },
  {
   "attachments": {},
   "cell_type": "markdown",
   "metadata": {},
   "source": [
    "### Gradient Boosting Classifer"
   ]
  },
  {
   "cell_type": "code",
   "execution_count": 8,
   "metadata": {},
   "outputs": [
    {
     "name": "stdout",
     "output_type": "stream",
     "text": [
      "Best score: 0.9089940590823293\n",
      "Best Hyperparameters for Gradient Boosting Classifier based on RandomizedSearchCV: {'n_estimators': 300, 'min_samples_split': 0.4, 'min_samples_leaf': 0.1, 'max_features': 13, 'max_depth': 18, 'learning_rate': 0.25}\n"
     ]
    }
   ],
   "source": [
    "# Hyperparamter tuning for Gradient Boosting Classifier\n",
    "from sklearn.model_selection import RandomizedSearchCV\n",
    "import numpy as np\n",
    "\n",
    "gbc = GradientBoostingClassifier(random_state=42)\n",
    "space = dict() \n",
    "space['learning_rate'] = [1, 0.5, 0.25, 0.1, 0.05, 0.01]\n",
    "space['n_estimators'] = [1, 2, 4, 8, 16, 32, 64, 100, 200, 300]\n",
    "space['max_depth'] = [int(x) for x in np.linspace(1, 32, 32, endpoint=True)]\n",
    "space['min_samples_split'] = np.linspace(0.1, 1.0, 10, endpoint=True)\n",
    "space['min_samples_leaf'] = np.linspace(0.1, 0.5, 5, endpoint=True)\n",
    "space['max_features'] = list(range(1, X_train.shape[1]))\n",
    "\n",
    "# RandomSearchCV for best params\n",
    "search = RandomizedSearchCV(gbc, space, n_iter=1000, scoring='roc_auc', cv=10, n_jobs=-1, random_state=42)\n",
    "result = search.fit(X, y)\n",
    "print (f\"Best score: {result.best_score_}\")\n",
    "print(f\"Best Hyperparameters for Gradient Boosting Classifier based on RandomizedSearchCV: {result.best_params_}\")"
   ]
  },
  {
   "cell_type": "code",
   "execution_count": 6,
   "metadata": {},
   "outputs": [],
   "source": [
    "# Tuned model based on the above hyperparameters \n",
    "gbc_tuned = GradientBoostingClassifier(n_estimators=300, min_samples_split=0.4, min_samples_leaf=0.1, \n",
    "                                       max_features=13, max_depth=18, learning_rate=0.25, random_state=42)\n",
    "\n",
    "gbc_tuned.fit(X_train, y_train)\n",
    "y_pred = gbc_tuned.predict(X_test)"
   ]
  },
  {
   "cell_type": "code",
   "execution_count": 7,
   "metadata": {},
   "outputs": [
    {
     "name": "stdout",
     "output_type": "stream",
     "text": [
      "Confusion Matrix\n"
     ]
    },
    {
     "data": {
      "image/png": "[encoded data removed]",
      "text/plain": [
       "<Figure size 800x550 with 2 Axes>"
      ]
     },
     "metadata": {},
     "output_type": "display_data"
    },
    {
     "name": "stdout",
     "output_type": "stream",
     "text": [
      "Classification Report\n",
      "              precision    recall  f1-score   support\n",
      "\n",
      "           0       0.89      0.91      0.90      1568\n",
      "           1       0.72      0.67      0.69       545\n",
      "\n",
      "    accuracy                           0.85      2113\n",
      "   macro avg       0.80      0.79      0.79      2113\n",
      "weighted avg       0.84      0.85      0.84      2113\n",
      "\n"
     ]
    }
   ],
   "source": [
    "from sklearn.metrics import classification_report, confusion_matrix, roc_curve, auc\n",
    "import seaborn as sns\n",
    "import matplotlib.pyplot as plt\n",
    "\n",
    "cm = confusion_matrix(y_test, y_pred)\n",
    "print(\"Confusion Matrix\")\n",
    "sns.heatmap(cm, annot=True, fmt='.0f', cmap='crest')\n",
    "plt.show()\n",
    "\n",
    "print(\"Classification Report\")\n",
    "print(classification_report(y_test, y_pred))"
   ]
  },
  {
   "cell_type": "code",
   "execution_count": 8,
   "metadata": {},
   "outputs": [
    {
     "name": "stdout",
     "output_type": "stream",
     "text": [
      "Area under ROC curve (Tuned Gradient Boosting Classifier): 0.90\n"
     ]
    }
   ],
   "source": [
    "y_pred_score = gbc_tuned.decision_function(X_test)\n",
    "fpr_gbc_tuned, tpr_gbc_tuned, _ = roc_curve(y_test, y_pred_score)\n",
    "roc_auc_gbctuned = auc(fpr_gbc_tuned, tpr_gbc_tuned)\n",
    "print(f\"Area under ROC curve (Tuned Gradient Boosting Classifier): {roc_auc_gbctuned:.2f}\")"
   ]
  },
  {
   "attachments": {},
   "cell_type": "markdown",
   "metadata": {},
   "source": [
    "### CatBoost Classifier"
   ]
  },
  {
   "cell_type": "code",
   "execution_count": 16,
   "metadata": {},
   "outputs": [
    {
     "name": "stdout",
     "output_type": "stream",
     "text": [
      "Best score: 0.9159496727092218\n",
      "Best Hyperparameters for CatBoost Classifier based on RandomizedSearchCV: {'learning_rate': 0.025, 'depth': 4}\n"
     ]
    }
   ],
   "source": [
    "# Hyperparameter Tuning for CatBoost Classifier\n",
    "import numpy as np\n",
    "from sklearn.model_selection import RandomizedSearchCV\n",
    "\n",
    "cat = CatBoostClassifier(eval_metric='AUC:hints=skip_train~false', random_state=42, verbose=False)\n",
    "\n",
    "space = dict() \n",
    "space['learning_rate'] = [0.5, 0.25, 0.1, 0.05, 0.025, 0.01]\n",
    "space['depth'] = [int(x) for x in np.linspace(1, 15, 15, endpoint=True)]\n",
    "\n",
    "\n",
    "# RandomSearchCV for best params \n",
    "search = RandomizedSearchCV(cat, space, n_iter=10, scoring='roc_auc', cv=10, n_jobs=-1, random_state=42)\n",
    "result = search.fit(X, y)\n",
    "print (f\"Best score: {result.best_score_}\")\n",
    "print(f\"Best Hyperparameters for CatBoost Classifier based on RandomizedSearchCV: {result.best_params_}\")"
   ]
  },
  {
   "cell_type": "code",
   "execution_count": 17,
   "metadata": {},
   "outputs": [],
   "source": [
    "# Tuned model based on the above hyperparameters \n",
    "cat_tuned = CatBoostClassifier(learning_rate= 0.025, depth = 4, eval_metric='AUC', \n",
    "                               random_state=42, verbose=False)\n",
    "\n",
    "cat_tuned.fit(X_train, y_train)\n",
    "y_pred = cat_tuned.predict(X_test)"
   ]
  },
  {
   "cell_type": "code",
   "execution_count": 18,
   "metadata": {},
   "outputs": [
    {
     "name": "stdout",
     "output_type": "stream",
     "text": [
      "Confusion Matrix\n"
     ]
    },
    {
     "data": {
      "image/png": "[encoded data removed]",
      "text/plain": [
       "<Figure size 800x550 with 2 Axes>"
      ]
     },
     "metadata": {},
     "output_type": "display_data"
    },
    {
     "name": "stdout",
     "output_type": "stream",
     "text": [
      "Classification Report\n",
      "              precision    recall  f1-score   support\n",
      "\n",
      "           0       0.89      0.92      0.91      1568\n",
      "           1       0.75      0.68      0.71       545\n",
      "\n",
      "    accuracy                           0.86      2113\n",
      "   macro avg       0.82      0.80      0.81      2113\n",
      "weighted avg       0.85      0.86      0.86      2113\n",
      "\n"
     ]
    }
   ],
   "source": [
    "cm = confusion_matrix(y_test, y_pred)\n",
    "print(\"Confusion Matrix\")\n",
    "sns.heatmap(cm, annot=True, fmt='.0f', cmap='crest')\n",
    "plt.show()\n",
    "\n",
    "print(\"Classification Report\")\n",
    "print(classification_report(y_test, y_pred))"
   ]
  },
  {
   "cell_type": "code",
   "execution_count": 19,
   "metadata": {},
   "outputs": [
    {
     "name": "stdout",
     "output_type": "stream",
     "text": [
      "Area under ROC curve (Tuned CatBoost Classifier): 0.90\n"
     ]
    }
   ],
   "source": [
    "y_pred_score = gbc_tuned.decision_function(X_test)\n",
    "fpr_gbc_tuned, tpr_gbc_tuned, _ = roc_curve(y_test, y_pred_score)\n",
    "roc_auc_gbctuned = auc(fpr_gbc_tuned, tpr_gbc_tuned)\n",
    "print(f\"Area under ROC curve (Tuned CatBoost Classifier): {roc_auc_gbctuned:.2f}\")"
   ]
  },
  {
   "cell_type": "code",
   "execution_count": 20,
   "metadata": {},
   "outputs": [
    {
     "data": {
      "text/plain": [
       "['catboost_model.pkl']"
      ]
     },
     "execution_count": 20,
     "metadata": {},
     "output_type": "execute_result"
    }
   ],
   "source": [
    "import joblib \n",
    "\n",
    "joblib.dump(cat_tuned, 'catboost_model.pkl')"
   ]
  }
 ],
 "metadata": {
  "kernelspec": {
   "display_name": "base_env",
   "language": "python",
   "name": "python3"
  },
  "language_info": {
   "codemirror_mode": {
    "name": "ipython",
    "version": 3
   },
   "file_extension": ".py",
   "mimetype": "text/x-python",
   "name": "python",
   "nbconvert_exporter": "python",
   "pygments_lexer": "ipython3",
   "version": "3.8.13"
  },
  "orig_nbformat": 4
 },
 "nbformat": 4,
 "nbformat_minor": 2
}

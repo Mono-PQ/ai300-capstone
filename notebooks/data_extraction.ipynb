{
 "cells": [
  {
   "attachments": {},
   "cell_type": "markdown",
   "metadata": {},
   "source": [
    "# AI300: Capstone Project Data Extraction"
   ]
  },
  {
   "cell_type": "code",
   "execution_count": 1,
   "metadata": {},
   "outputs": [],
   "source": [
    "import pymysql\n",
    "import pandas as pd\n",
    "import sys\n",
    "sys.path.append('..')\n",
    "import config as conf\n",
    "\n",
    "CURSORCLASS = pymysql.cursors.DictCursor"
   ]
  },
  {
   "cell_type": "code",
   "execution_count": 2,
   "metadata": {},
   "outputs": [],
   "source": [
    "# Define function to establish MySQL database (local) connection\n",
    "def initiate_connection():\n",
    "    try:\n",
    "        connection = pymysql.connect(host=conf.DB_HOST,\n",
    "                                     user=conf.DB_USER,\n",
    "                                     passwd=conf.DB_PWD,\n",
    "                                     db=conf.DB_NAME,\n",
    "                                     cursorclass=CURSORCLASS)\n",
    "        print('[+] Connection Successful')\n",
    "    except Exception as e:\n",
    "        print(f'[+] Connection Failed: {e}')\n",
    "        connection = None\n",
    "\n",
    "    return connection"
   ]
  },
  {
   "cell_type": "code",
   "execution_count": 3,
   "metadata": {},
   "outputs": [
    {
     "name": "stdout",
     "output_type": "stream",
     "text": [
      "[+] Connection Successful\n"
     ]
    }
   ],
   "source": [
    "# Check connection status\n",
    "connection = initiate_connection()"
   ]
  },
  {
   "cell_type": "code",
   "execution_count": 4,
   "metadata": {},
   "outputs": [],
   "source": [
    "# Schema and table names \n",
    "schema = 'capstone'\n",
    "account_tbl = 'account'\n",
    "accountusage_tbl = 'account_usage'\n",
    "churn_tbl = 'churn_status'\n",
    "customer_tbl = 'customer'\n",
    "city_tbl = 'city'"
   ]
  },
  {
   "cell_type": "code",
   "execution_count": 5,
   "metadata": {},
   "outputs": [],
   "source": [
    "sql_query = f\"\"\"\n",
    "    SELECT a.account_id \n",
    "            , a.customer_id \n",
    "            , a.tenure_months\n",
    "            , a.num_referrals \n",
    "            , a.has_internet_service \n",
    "            , a.internet_type \n",
    "            , a.has_unlimited_data\n",
    "            , a.has_phone_service\n",
    "            , a.has_multiple_lines\n",
    "            , a.has_premium_tech_support\n",
    "            , a.has_online_security\n",
    "            , a.has_online_backup\n",
    "            , a.has_device_protection\n",
    "            , a.contract_type\n",
    "            , a.paperless_billing\n",
    "            , a.payment_method\n",
    "            , au.avg_long_distance_fee_monthly\n",
    "            , au.total_long_distance_fee\n",
    "            , au.avg_gb_download_monthly\n",
    "            , au.stream_tv\n",
    "            , au.stream_movie\n",
    "            , au.stream_music\n",
    "            , au.total_monthly_fee\n",
    "            , au.total_charges_quarter\n",
    "            , au.total_refunds\n",
    "            , c.gender\n",
    "            , c.age\n",
    "            , c.senior_citizen\n",
    "            , c.married\n",
    "            , c.num_dependents\n",
    "            , c.zip_code\n",
    "            , city.city_name\n",
    "            , city.population\n",
    "            , cs.customer_status \n",
    "            , cs.churn_label\n",
    "            , cs.churn_category\n",
    "            , cs.churn_reason\n",
    "    FROM account AS a \n",
    "    JOIN account_usage au\n",
    "    ON a.account_id = au.account_id\n",
    "    JOIN customer AS c\n",
    "    ON a.customer_id = c.customer_id\n",
    "    JOIN city \n",
    "    ON c.zip_code = city.zip_code\n",
    "    JOIN churn_status AS cs\n",
    "    ON a.customer_id = cs.customer_id\n",
    "\"\"\"\n",
    "\n",
    "def get_records(sql_query):\n",
    "    try:\n",
    "        with connection.cursor() as cursor:\n",
    "            cursor.execute(sql_query)\n",
    "\n",
    "        # Connection is not autocommit by default, so we must commit to save changes\n",
    "        connection.commit()\n",
    "        \n",
    "        # Fetch all the records from SQL query output\n",
    "        results = cursor.fetchall()\n",
    "        \n",
    "        # Convert results into pandas dataframe\n",
    "        df = pd.DataFrame(results)\n",
    "        \n",
    "        print(f'Successfully retrieved records')\n",
    "        \n",
    "        return df\n",
    "        \n",
    "    except Exception as e:\n",
    "        print(f'Error encountered: {e}')"
   ]
  },
  {
   "cell_type": "code",
   "execution_count": 6,
   "metadata": {},
   "outputs": [
    {
     "name": "stdout",
     "output_type": "stream",
     "text": [
      "Successfully retrieved records\n",
      "Shape of dataframe: (7043, 37)\n"
     ]
    }
   ],
   "source": [
    "# Retrieve merged data from databasee\n",
    "df = get_records(sql_query)\n",
    "print(f\"Shape of dataframe: {df.shape}\")"
   ]
  },
  {
   "cell_type": "code",
   "execution_count": 7,
   "metadata": {},
   "outputs": [],
   "source": [
    "# Export data to CSV file format\n",
    "df.to_csv('data/customer_churn_v0.csv', index=False)"
   ]
  },
  {
   "cell_type": "code",
   "execution_count": 8,
   "metadata": {},
   "outputs": [],
   "source": [
    "connection.close()"
   ]
  }
 ],
 "metadata": {
  "kernelspec": {
   "display_name": "base_env",
   "language": "python",
   "name": "python3"
  },
  "language_info": {
   "codemirror_mode": {
    "name": "ipython",
    "version": 3
   },
   "file_extension": ".py",
   "mimetype": "text/x-python",
   "name": "python",
   "nbconvert_exporter": "python",
   "pygments_lexer": "ipython3",
   "version": "3.8.13"
  },
  "orig_nbformat": 4
 },
 "nbformat": 4,
 "nbformat_minor": 2
}
